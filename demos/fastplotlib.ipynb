{
 "cells": [
  {
   "cell_type": "code",
   "execution_count": 1,
   "id": "3e74c0e1-964b-4498-b221-1f01f66ff0d3",
   "metadata": {},
   "outputs": [],
   "source": [
    "from localmd.decomposition import localmd_decomposition, display, factored_svd, windowed_pmd, single_residual_block_md, get_projector\n",
    "from localmd.dataset import MultipageTiffDataset\n",
    "import localmd.visualization \n",
    "from localmd.visualization import generate_PMD_comparison_triptych\n",
    "from localmd.pmdarray import PMDArray\n",
    "\n",
    "import matplotlib.pyplot as plt\n",
    "\n",
    "\n",
    "import scipy\n",
    "import scipy.sparse\n",
    "import jax\n",
    "import jax.scipy\n",
    "import jax.numpy as jnp\n",
    "from jax import jit, vmap\n",
    "import numpy as np\n",
    "import math\n",
    "\n",
    "import os\n",
    "import tifffile\n",
    "\n",
    "import fastplotlib as fpl\n",
    "\n",
    "%load_ext autoreload"
   ]
  },
  {
   "cell_type": "code",
   "execution_count": null,
   "id": "3c472da9-1e39-48f2-9939-3a2ee6cc9184",
   "metadata": {},
   "outputs": [],
   "source": []
  },
  {
   "cell_type": "markdown",
   "id": "8eb646e8-887c-4963-bf36-b8ab98e5eb6c",
   "metadata": {},
   "source": [
    "# Specify the dataset in the below panel. See PMD documentation for easy ways to add support for your custom data formats. We provide default support for single, multipage tiff files. "
   ]
  },
  {
   "cell_type": "code",
   "execution_count": 2,
   "id": "afbdb6d2-e175-4e1d-90b9-f337c8fd08f7",
   "metadata": {},
   "outputs": [],
   "source": [
    "input_file = \"../datasets/demoMovie.tif\"\n",
    "current_dataset = MultipageTiffDataset(input_file)"
   ]
  },
  {
   "cell_type": "markdown",
   "id": "3a3bc9e6-5c3a-472f-ba04-b1583b598bd9",
   "metadata": {},
   "source": [
    "# Below panel specifies the parameters for running the method"
   ]
  },
  {
   "cell_type": "code",
   "execution_count": 3,
   "id": "934cb0a8-e04a-469b-a382-676dc1db367c",
   "metadata": {},
   "outputs": [],
   "source": [
    "#Default parameters (can be modified..)\n",
    "\n",
    "pmd_params_dict = {\n",
    "    'block_height':20,\n",
    "    'block_width':20,\n",
    "    'frames_to_init':5000,\n",
    "    'background_rank':1,\n",
    "    'max_consec_failures':1,\n",
    "    'max_components':40,\n",
    "}\n",
    "\n",
    "\n",
    "#NOTE: this data folder will also contain the location of the TestData\n",
    "block_height = pmd_params_dict['block_height']\n",
    "block_width = pmd_params_dict['block_width'] \n",
    "\n",
    "block_sizes = [block_height, block_width]\n",
    "\n",
    "max_consec_failures = pmd_params_dict['max_consec_failures']\n",
    "frames_to_init = pmd_params_dict['frames_to_init']\n",
    "background_rank = pmd_params_dict['background_rank'] \n",
    "\n",
    "###THESE PARAMS ARE NEVER MODIFIED\n",
    "sim_conf = 5\n",
    "\n",
    "max_components = pmd_params_dict['max_components']\n",
    "\n",
    "corrector = None\n",
    "\n",
    "frame_batch_size = 2000\n",
    "pixel_batch_size = 10000\n",
    "dtype=\"float32\""
   ]
  },
  {
   "cell_type": "markdown",
   "id": "716593cb-c7c8-4585-b47e-f984db24094c",
   "metadata": {},
   "source": [
    "# Run PMD"
   ]
  },
  {
   "cell_type": "code",
   "execution_count": 4,
   "id": "1a089525-eb3c-4fd3-a066-b6f593308216",
   "metadata": {},
   "outputs": [
    {
     "name": "stdout",
     "output_type": "stream",
     "text": [
      "[23-11-29 16:28:59]: The batch size used is 2000\n",
      "[23-11-29 16:28:59]: num workers for each dataloader is 0\n",
      "[23-11-29 16:28:59]: Computing Video Statistics\n",
      "[23-11-29 16:28:59]: Calculating mean and noise variance\n"
     ]
    },
    {
     "name": "stderr",
     "output_type": "stream",
     "text": [
      "An NVIDIA GPU may be present on this machine, but a CUDA-enabled jaxlib is not installed. Falling back to cpu.\n"
     ]
    },
    {
     "name": "stdout",
     "output_type": "stream",
     "text": [
      "[23-11-29 16:29:00]: Finished mean and noise variance\n",
      "[23-11-29 16:29:00]: WARNING: Specified using more frames than there are in the dataset.\n",
      "[23-11-29 16:29:00]: WARNING: Initializing on less than 2000 frames, this will lead to limited benefits.\n",
      "[23-11-29 16:29:00]: We are initializing on a total of 2000 frames\n",
      "[23-11-29 16:29:00]: Running Simulations, block dimensions are 20 x 20 x 2000 \n",
      "[23-11-29 16:29:03]: Loading Data\n",
      "[23-11-29 16:29:03]: Obtaining blocks and running local SVD\n",
      "[23-11-29 16:29:04]: Normalizing by weights\n",
      "[23-11-29 16:29:04]: The total rank before pruning is 720\n",
      "[23-11-29 16:29:04]: Performing rank pruning and orthogonalization for fast sparse regression.\n",
      "[23-11-29 16:29:04]: After performing rank reduction, the updated rank is 240\n",
      "[23-11-29 16:29:04]: Running sparse regression\n"
     ]
    },
    {
     "name": "stderr",
     "output_type": "stream",
     "text": [
      "100%|████████████████████████████████████████████████████████████████████████████████████████████████████████████████████████████| 1/1 [00:00<00:00,  2.70it/s]"
     ]
    },
    {
     "name": "stdout",
     "output_type": "stream",
     "text": [
      "[23-11-29 16:29:05]: Final reformat of data into complete SVD\n",
      "[23-11-29 16:29:05]: Short matrix, using leftward SVD routine\n",
      "[23-11-29 16:29:05]: Matrix decomposition completed\n"
     ]
    },
    {
     "name": "stderr",
     "output_type": "stream",
     "text": [
      "\n"
     ]
    }
   ],
   "source": [
    "U, R, s, V, std_img, mean_img, data_shape, data_order = localmd_decomposition(current_dataset, block_sizes, frames_to_init, \\\n",
    "                                max_components=max_components, background_rank = background_rank, sim_conf=sim_conf,\\\n",
    "                                 frame_batch_size=frame_batch_size,pixel_batch_size=pixel_batch_size, dtype=dtype, \\\n",
    "                                 num_workers=0, frame_corrector_obj = corrector, max_consec_failures=max_consec_failures)\n",
    "\n",
    "current_video = PMDArray(U, R, s, V, data_shape, data_order, mean_img, std_img)"
   ]
  },
  {
   "cell_type": "markdown",
   "id": "6db1ca47-02c2-44c2-9bbc-93f140d54934",
   "metadata": {},
   "source": [
    "# Fastplotlib testing"
   ]
  },
  {
   "cell_type": "code",
   "execution_count": 5,
   "id": "b8f197ed-f33d-4a71-bae6-a6a409e3cd64",
   "metadata": {},
   "outputs": [
    {
     "name": "stdout",
     "output_type": "stream",
     "text": [
      "<class 'localmd.pmdarray.PMDArray'>\n"
     ]
    },
    {
     "data": {
      "text/plain": [
       "(60, 80)"
      ]
     },
     "execution_count": 5,
     "metadata": {},
     "output_type": "execute_result"
    }
   ],
   "source": [
    "current_video.shape\n",
    "print(type(current_video))\n",
    "current_video[0].shape"
   ]
  },
  {
   "cell_type": "code",
   "execution_count": 28,
   "id": "0d1a291f-f594-4d53-8ae9-fefc773e7192",
   "metadata": {},
   "outputs": [
    {
     "data": {
      "application/vnd.jupyter.widget-view+json": {
       "model_id": "9c2f3a17f8ad45fbb2f463ae192fce9d",
       "version_major": 2,
       "version_minor": 0
      },
      "text/plain": [
       "RFBOutputContext()"
      ]
     },
     "metadata": {},
     "output_type": "display_data"
    },
    {
     "data": {
      "application/vnd.jupyter.widget-view+json": {
       "model_id": "723165b25b594a3ca84c18fc8751f03e",
       "version_major": 2,
       "version_minor": 0
      },
      "text/plain": [
       "JupyterOutputContext(children=(JupyterWgpuCanvas(), IpywidgetToolBar(children=(Button(icon='expand-arrows-alt'…"
      ]
     },
     "execution_count": 28,
     "metadata": {},
     "output_type": "execute_result"
    }
   ],
   "source": [
    "iw = fpl.ImageWidget([current_video for i in range(4)], grid_plot_kwargs={\"controllers\": [[0, 1], [1,  0]]})\n",
    "iw.show()"
   ]
  },
  {
   "cell_type": "code",
   "execution_count": 30,
   "id": "d8b6b1a5-30c5-4ef7-96a2-564be49c8cfd",
   "metadata": {},
   "outputs": [],
   "source": [
    "from scipy.ndimage import gaussian_filter"
   ]
  },
  {
   "cell_type": "code",
   "execution_count": 32,
   "id": "8a3adc50-d734-4a1c-94ec-2d97a69e17ba",
   "metadata": {},
   "outputs": [],
   "source": [
    "iw.frame_apply = {0: lambda f: gaussian_filter(f, 5)}"
   ]
  },
  {
   "cell_type": "code",
   "execution_count": null,
   "id": "798acecc-fdd0-4f8b-8e84-d76b8f5c4a86",
   "metadata": {},
   "outputs": [],
   "source": [
    "gp = fpl.GridPlot(["
   ]
  },
  {
   "cell_type": "code",
   "execution_count": 22,
   "id": "1b86cdf0-7f72-4f95-9a00-674cacc82861",
   "metadata": {},
   "outputs": [],
   "source": [
    "iw.gridplot.canvas.quality = 50"
   ]
  },
  {
   "cell_type": "code",
   "execution_count": 24,
   "id": "28b13095-317a-4882-90cd-028c5174192b",
   "metadata": {},
   "outputs": [],
   "source": [
    "iw.window_funcs = None"
   ]
  },
  {
   "cell_type": "code",
   "execution_count": 7,
   "id": "7b9cf0f0-7268-4be9-9333-f22aa44cf6a4",
   "metadata": {},
   "outputs": [],
   "source": [
    "iw.cmap = \"gnuplot2\""
   ]
  },
  {
   "cell_type": "raw",
   "id": "025d35d3-8fe6-4290-a2e9-32ed6383a4e5",
   "metadata": {},
   "source": [
    "    def __getitem__(\n",
    "            self,\n",
    "            item: Union[int, Tuple[slice_or_int_or_range]]\n",
    "    ):\n",
    "        if isinstance(item, int):\n",
    "            indexer = item\n",
    "\n",
    "        # numpy int scaler\n",
    "        elif isinstance(item, np.integer):\n",
    "            indexer = item.item()\n",
    "\n",
    "        # treat slice and range the same\n",
    "        elif isinstance(item, (slice, range)):\n",
    "            indexer = item\n",
    "\n",
    "        elif isinstance(item, tuple):\n",
    "            if len(item) > len(self.shape):\n",
    "                raise IndexError(\n",
    "                    f\"Cannot index more dimensions than exist in the array. \"\n",
    "                    f\"You have tried to index with {len(item)} dimensions, \"\n",
    "                    f\"only {len(self.shape)} dimensions exist in the array\"\n",
    "                )\n",
    "\n",
    "            indexer = item[0]\n",
    "\n",
    "        else:\n",
    "            raise IndexError(\n",
    "                f\"You can index LazyArrays only using slice, int, or tuple of slice and int, \"\n",
    "                f\"you have passed a: {type(item)}\"\n",
    "            )\n",
    "\n",
    "        # treat slice and range the same\n",
    "        if isinstance(indexer, (slice, range)):\n",
    "            start = indexer.start\n",
    "            stop = indexer.stop\n",
    "            step = indexer.step\n",
    "\n",
    "            if start is not None:\n",
    "                if start > self.n_frames:\n",
    "                    raise IndexError(f\"Cannot index beyond `n_frames`.\\n\"\n",
    "                                     f\"Desired frame start index of {start} \"\n",
    "                                     f\"lies beyond `n_frames` {self.n_frames}\")\n",
    "            if stop is not None:\n",
    "                if stop > self.n_frames:\n",
    "                    raise IndexError(f\"Cannot index beyond `n_frames`.\\n\"\n",
    "                                     f\"Desired frame stop index of {stop} \"\n",
    "                                     f\"lies beyond `n_frames` {self.n_frames}\")\n",
    "\n",
    "            if step is None:\n",
    "                step = 1\n",
    "            \n",
    "            # convert indexer to slice if it was a range, allows things like decord.VideoReader slicing\n",
    "            indexer = slice(start, stop, step)  # in case it was a range object\n",
    "            \n",
    "            # dimension_0 is always time\n",
    "            frames = self._compute_at_indices(indexer)\n",
    "\n",
    "            # index the remaining dims after lazy computing the frame(s)\n",
    "            if isinstance(item, tuple):\n",
    "                if len(item) == 2:\n",
    "                    return frames[:, item[1]]\n",
    "                elif len(item) == 3:\n",
    "                    return frames[:, item[1], item[2]]\n",
    "\n",
    "            else:\n",
    "                return frames\n",
    "\n",
    "        elif isinstance(indexer, int):\n",
    "            return self._compute_at_indices(indexer)\n"
   ]
  }
 ],
 "metadata": {
  "kernelspec": {
   "display_name": "Python 3 (ipykernel)",
   "language": "python",
   "name": "python3"
  },
  "language_info": {
   "codemirror_mode": {
    "name": "ipython",
    "version": 3
   },
   "file_extension": ".py",
   "mimetype": "text/x-python",
   "name": "python",
   "nbconvert_exporter": "python",
   "pygments_lexer": "ipython3",
   "version": "3.11.2"
  }
 },
 "nbformat": 4,
 "nbformat_minor": 5
}
